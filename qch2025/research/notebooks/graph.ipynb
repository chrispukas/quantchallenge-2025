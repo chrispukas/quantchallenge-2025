{
 "cells": [
  {
   "cell_type": "code",
   "execution_count": null,
   "id": "2430740a",
   "metadata": {},
   "outputs": [],
   "source": [
    "import pandas as pd\n",
    "\n",
    "df = pd.load"
   ]
  }
 ],
 "metadata": {
  "language_info": {
   "name": "python"
  }
 },
 "nbformat": 4,
 "nbformat_minor": 5
}
