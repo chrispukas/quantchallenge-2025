{
 "cells": [
  {
   "cell_type": "code",
   "execution_count": 4,
   "id": "1e7ca424",
   "metadata": {},
   "outputs": [
    {
     "name": "stdout",
     "output_type": "stream",
     "text": [
      "(80000, 19) (72000, 19) (8000, 19)\n"
     ]
    }
   ],
   "source": [
    "import pandas as pd\n",
    "import os\n",
    "\n",
    "input_file = \"/Users/apple/Documents/github/quantchallenge-2025/qch2025/dataset/train_full/train.csv\"\n",
    "input_file_2 = \"/Users/apple/Documents/github/quantchallenge-2025/qch2025/dataset/train_full/train_new.csv\"\n",
    "\n",
    "output_dir_train = \"/Users/apple/Documents/github/quantchallenge-2025/qch2025/dataset/train_split/train/\"\n",
    "\n",
    "frac_train = 0.9\n",
    "\n",
    "df = pd.concat([\n",
    "    pd.read_csv(input_file), \n",
    "    pd.read_csv(input_file_2).fillna(0)\n",
    "    ], axis=1)\n",
    "\n",
    "rows, cols = df.shape\n",
    "\n",
    "df_train = df.head(int(rows*frac_train))\n",
    "df_eval = df.tail(int(rows*(1-frac_train)+1))\n",
    "\n",
    "df_train.to_csv(os.path.join(output_dir_train, \"train.csv\"))\n",
    "df_eval.to_csv(os.path.join(output_dir_train, \"eval.csv\"))\n",
    "\n",
    "print(df.shape, df_train.shape, df_eval.shape)\n",
    "\n"
   ]
  },
  {
   "cell_type": "code",
   "execution_count": 3,
   "id": "aaef8e09",
   "metadata": {},
   "outputs": [
    {
     "name": "stdout",
     "output_type": "stream",
     "text": [
      "(15996, 18)\n"
     ]
    }
   ],
   "source": [
    "import pandas as pd\n",
    "import os\n",
    "\n",
    "input_file = \"/Users/apple/Documents/github/quantchallenge-2025/qch2025/dataset/test/test.csv\"\n",
    "input_file_2 = \"/Users/apple/Documents/github/quantchallenge-2025/qch2025/dataset/test/test_new.csv\"\n",
    "\n",
    "output_dir_evaluate = \"/Users/apple/Documents/github/quantchallenge-2025/qch2025/dataset/train_split/evaluate\"\n",
    "\n",
    "frac_train = 0.9\n",
    "\n",
    "df = pd.concat([\n",
    "    pd.read_csv(input_file), \n",
    "    pd.read_csv(input_file_2).fillna(0)\n",
    "    ], axis=1)\n",
    "\n",
    "df.to_csv(os.path.join(output_dir_evaluate, \"test.csv\"))\n",
    "\n",
    "print(df.shape)\n"
   ]
  },
  {
   "cell_type": "code",
   "execution_count": 1,
   "id": "f224725e",
   "metadata": {},
   "outputs": [
    {
     "name": "stdout",
     "output_type": "stream",
     "text": [
      "(80000, 19)\n"
     ]
    }
   ],
   "source": [
    "import pandas as pd\n",
    "import os\n",
    "\n",
    "input_file = \"/Users/apple/Documents/github/quantchallenge-2025/qch2025/dataset/train_full/train.csv\"\n",
    "input_file_2 = \"/Users/apple/Documents/github/quantchallenge-2025/qch2025/dataset/train_full/train_new.csv\"\n",
    "\n",
    "output_dir_evaluate = \"/Users/apple/Documents/github/quantchallenge-2025/qch2025/dataset/train_split/train\"\n",
    "\n",
    "frac_train = 0.9\n",
    "\n",
    "df = pd.concat([\n",
    "    pd.read_csv(input_file), \n",
    "    pd.read_csv(input_file_2).fillna(0)\n",
    "    ], axis=1)\n",
    "\n",
    "df.to_csv(os.path.join(output_dir_evaluate, \"train_full.csv\"))\n",
    "\n",
    "print(df.shape)\n"
   ]
  }
 ],
 "metadata": {
  "kernelspec": {
   "display_name": "qch2",
   "language": "python",
   "name": "python3"
  },
  "language_info": {
   "codemirror_mode": {
    "name": "ipython",
    "version": 3
   },
   "file_extension": ".py",
   "mimetype": "text/x-python",
   "name": "python",
   "nbconvert_exporter": "python",
   "pygments_lexer": "ipython3",
   "version": "3.12.11"
  }
 },
 "nbformat": 4,
 "nbformat_minor": 5
}
