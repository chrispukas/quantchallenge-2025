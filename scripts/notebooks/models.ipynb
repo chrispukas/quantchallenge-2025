{
 "cells": [
  {
   "cell_type": "code",
   "execution_count": 2,
   "id": "017337e8",
   "metadata": {},
   "outputs": [
    {
     "name": "stdout",
     "output_type": "stream",
     "text": [
      "Loading Dataset\n",
      "400\n",
      "1: avg loss = 0.0022795179486274717\n",
      "400\n",
      "2: avg loss = 0.00318008154630661\n",
      "[0.0022795179486274717, 0.00318008154630661]\n"
     ]
    },
    {
     "ename": "AttributeError",
     "evalue": "module 'qch2025.pkg.plotting' has no attribute 'plot_line'",
     "output_type": "error",
     "traceback": [
      "\u001b[31m---------------------------------------------------------------------------\u001b[39m",
      "\u001b[31mAttributeError\u001b[39m                            Traceback (most recent call last)",
      "\u001b[36mCell\u001b[39m\u001b[36m \u001b[39m\u001b[32mIn[2]\u001b[39m\u001b[32m, line 26\u001b[39m\n\u001b[32m     23\u001b[39m \u001b[38;5;28mprint\u001b[39m(losses)\n\u001b[32m     24\u001b[39m func.eval()\n\u001b[32m---> \u001b[39m\u001b[32m26\u001b[39m \u001b[43mplt\u001b[49m\u001b[43m.\u001b[49m\u001b[43mplot_line\u001b[49m(np.arange(\u001b[32m1\u001b[39m, n_epochs+\u001b[32m1\u001b[39m), losses)\n",
      "\u001b[31mAttributeError\u001b[39m: module 'qch2025.pkg.plotting' has no attribute 'plot_line'"
     ]
    }
   ],
   "source": [
    "from importlib.resources import files\n",
    "\n",
    "from qch2025.pkg.models.RNN import network as network\n",
    "from qch2025.pkg.models.RNN import func as func\n",
    "\n",
    "from qch2025.pkg.dataset import Dataset\n",
    "\n",
    "import qch2025.pkg.plotting as plt\n",
    "\n",
    "import numpy as np\n",
    "\n",
    "n_epochs = 2\n",
    "n_batches = 200\n",
    "\n",
    "ds_path = files(\"qch2025.dataset\")\n",
    "\n",
    "path = ds_path.joinpath(\"train.csv\")\n",
    "dataset = Dataset(dataset_path=path)\n",
    "\n",
    "rnn = network.RNN(14, 128, 2)\n",
    "losses = func.train(rnn, dataset=dataset, epochs=n_epochs,\n",
    "           batch_size=n_batches, learning_rate=0.01)\n",
    "print(losses)\n",
    "func.eval()\n",
    "\n",
    "plt.plot_line(np.arange(1, n_epochs+1), losses)\n",
    "\n",
    "\n",
    "\n",
    "\n",
    "\n",
    "\n"
   ]
  }
 ],
 "metadata": {
  "kernelspec": {
   "display_name": "qch",
   "language": "python",
   "name": "python3"
  },
  "language_info": {
   "codemirror_mode": {
    "name": "ipython",
    "version": 3
   },
   "file_extension": ".py",
   "mimetype": "text/x-python",
   "name": "python",
   "nbconvert_exporter": "python",
   "pygments_lexer": "ipython3",
   "version": "3.13.7"
  }
 },
 "nbformat": 4,
 "nbformat_minor": 5
}
