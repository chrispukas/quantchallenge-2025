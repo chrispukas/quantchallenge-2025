{
 "cells": [
  {
   "cell_type": "code",
   "execution_count": 1,
   "id": "017337e8",
   "metadata": {},
   "outputs": [
    {
     "name": "stdout",
     "output_type": "stream",
     "text": [
      "torch.Size([80000, 14])\n",
      "torch.Size([80000, 2])\n",
      "Initialized dataset torch.Size([4484, 256, 14]) torch.Size([4484, 256, 2])\n",
      "torch.Size([8192, 2]) torch.Size([8192, 2])\n",
      "torch.Size([])\n",
      "torch.Size([2]) torch.Size([2]) torch.Size([])\n",
      "torch.Size([1]) tensor([-0.0052], device='cuda:0', grad_fn=<SubBackward0>)\n",
      "[2025-09-21 11:48:35.298269] Current batch item: 0, took 312 ms, loss: -0.005196869373321533, mean loss: -0.005196869373321533\n",
      "torch.Size([8192, 2]) torch.Size([8192, 2])\n",
      "torch.Size([])\n",
      "torch.Size([2]) torch.Size([2]) torch.Size([])\n",
      "torch.Size([1]) tensor([-0.0246], device='cuda:0', grad_fn=<SubBackward0>)\n"
     ]
    },
    {
     "ename": "RuntimeError",
     "evalue": "Trying to backward through the graph a second time (or directly access saved tensors after they have already been freed). Saved intermediate values of the graph are freed when you call .backward() or autograd.grad(). Specify retain_graph=True if you need to backward through the graph a second time or if you need to access saved tensors after calling backward.",
     "output_type": "error",
     "traceback": [
      "\u001b[31m---------------------------------------------------------------------------\u001b[39m",
      "\u001b[31mRuntimeError\u001b[39m                              Traceback (most recent call last)",
      "\u001b[36mCell\u001b[39m\u001b[36m \u001b[39m\u001b[32mIn[1]\u001b[39m\u001b[32m, line 31\u001b[39m\n\u001b[32m     25\u001b[39m train_dataset = DS(dataset_path=\u001b[33m\"\u001b[39m\u001b[33m/home/ubuntu/repos/quantchallenge-2025/qch2025/dataset/train.csv\u001b[39m\u001b[33m\"\u001b[39m,\n\u001b[32m     26\u001b[39m                         window_size=window_size,\n\u001b[32m     27\u001b[39m                         window_steps=window_steps,\n\u001b[32m     28\u001b[39m                         dtype=dtype)\n\u001b[32m     30\u001b[39m rnn = network.RNN(\u001b[32m14\u001b[39m, \u001b[32m512\u001b[39m, \u001b[32m2\u001b[39m, dropout, attn_heads, \u001b[32m2\u001b[39m, device=torch.device(\u001b[33m\"\u001b[39m\u001b[33mcuda\u001b[39m\u001b[33m\"\u001b[39m), dtype=dtype)\n\u001b[32m---> \u001b[39m\u001b[32m31\u001b[39m losses = \u001b[43mfunc\u001b[49m\u001b[43m.\u001b[49m\u001b[43mtrain\u001b[49m\u001b[43m(\u001b[49m\u001b[43mrnn\u001b[49m\u001b[43m,\u001b[49m\u001b[43m \u001b[49m\u001b[43mdataset\u001b[49m\u001b[43m=\u001b[49m\u001b[43mtrain_dataset\u001b[49m\u001b[43m,\u001b[49m\u001b[43m \u001b[49m\u001b[43mepochs\u001b[49m\u001b[43m=\u001b[49m\u001b[43mn_epochs\u001b[49m\u001b[43m,\u001b[49m\u001b[43m \u001b[49m\u001b[43mlearning_rate\u001b[49m\u001b[43m=\u001b[49m\u001b[43mlearning_rate\u001b[49m\u001b[43m)\u001b[49m\n\u001b[32m     33\u001b[39m plt.plot_line(np.arange(\u001b[32m1\u001b[39m, n_epochs+\u001b[32m1\u001b[39m), losses)\n\u001b[32m     36\u001b[39m \u001b[38;5;66;03m#checkpoint = torch.load(\"/home/ubuntu/repos/quantchallenge-2025/weights/weights.pth\", weights_only=True)\u001b[39;00m\n\u001b[32m     37\u001b[39m \u001b[38;5;66;03m#rnn.load_state_dict(checkpoint['model_state_dict'])\u001b[39;00m\n",
      "\u001b[36mFile \u001b[39m\u001b[32m~/repos/quantchallenge-2025/qch2025/pkg/models/RNN/func.py:35\u001b[39m, in \u001b[36mtrain\u001b[39m\u001b[34m(model, dataset, epochs, batch_size, learning_rate)\u001b[39m\n\u001b[32m     32\u001b[39m pred_out = model.forward(tr)\n\u001b[32m     33\u001b[39m loss = combined_loss(pred_out, target, alpha_decay=decay)\n\u001b[32m---> \u001b[39m\u001b[32m35\u001b[39m \u001b[43mloss\u001b[49m\u001b[43m.\u001b[49m\u001b[43mbackward\u001b[49m\u001b[43m(\u001b[49m\u001b[43m)\u001b[49m\n\u001b[32m     36\u001b[39m nn.utils.clip_grad_norm_(model.parameters(), \u001b[32m3\u001b[39m)\n\u001b[32m     37\u001b[39m optimizer.step()\n",
      "\u001b[36mFile \u001b[39m\u001b[32m~/miniforge3/envs/qch/lib/python3.13/site-packages/torch/_tensor.py:648\u001b[39m, in \u001b[36mTensor.backward\u001b[39m\u001b[34m(self, gradient, retain_graph, create_graph, inputs)\u001b[39m\n\u001b[32m    638\u001b[39m \u001b[38;5;28;01mif\u001b[39;00m has_torch_function_unary(\u001b[38;5;28mself\u001b[39m):\n\u001b[32m    639\u001b[39m     \u001b[38;5;28;01mreturn\u001b[39;00m handle_torch_function(\n\u001b[32m    640\u001b[39m         Tensor.backward,\n\u001b[32m    641\u001b[39m         (\u001b[38;5;28mself\u001b[39m,),\n\u001b[32m   (...)\u001b[39m\u001b[32m    646\u001b[39m         inputs=inputs,\n\u001b[32m    647\u001b[39m     )\n\u001b[32m--> \u001b[39m\u001b[32m648\u001b[39m \u001b[43mtorch\u001b[49m\u001b[43m.\u001b[49m\u001b[43mautograd\u001b[49m\u001b[43m.\u001b[49m\u001b[43mbackward\u001b[49m\u001b[43m(\u001b[49m\n\u001b[32m    649\u001b[39m \u001b[43m    \u001b[49m\u001b[38;5;28;43mself\u001b[39;49m\u001b[43m,\u001b[49m\u001b[43m \u001b[49m\u001b[43mgradient\u001b[49m\u001b[43m,\u001b[49m\u001b[43m \u001b[49m\u001b[43mretain_graph\u001b[49m\u001b[43m,\u001b[49m\u001b[43m \u001b[49m\u001b[43mcreate_graph\u001b[49m\u001b[43m,\u001b[49m\u001b[43m \u001b[49m\u001b[43minputs\u001b[49m\u001b[43m=\u001b[49m\u001b[43minputs\u001b[49m\n\u001b[32m    650\u001b[39m \u001b[43m\u001b[49m\u001b[43m)\u001b[49m\n",
      "\u001b[36mFile \u001b[39m\u001b[32m~/miniforge3/envs/qch/lib/python3.13/site-packages/torch/autograd/__init__.py:353\u001b[39m, in \u001b[36mbackward\u001b[39m\u001b[34m(tensors, grad_tensors, retain_graph, create_graph, grad_variables, inputs)\u001b[39m\n\u001b[32m    348\u001b[39m     retain_graph = create_graph\n\u001b[32m    350\u001b[39m \u001b[38;5;66;03m# The reason we repeat the same comment below is that\u001b[39;00m\n\u001b[32m    351\u001b[39m \u001b[38;5;66;03m# some Python versions print out the first line of a multi-line function\u001b[39;00m\n\u001b[32m    352\u001b[39m \u001b[38;5;66;03m# calls in the traceback and some print out the last line\u001b[39;00m\n\u001b[32m--> \u001b[39m\u001b[32m353\u001b[39m \u001b[43m_engine_run_backward\u001b[49m\u001b[43m(\u001b[49m\n\u001b[32m    354\u001b[39m \u001b[43m    \u001b[49m\u001b[43mtensors\u001b[49m\u001b[43m,\u001b[49m\n\u001b[32m    355\u001b[39m \u001b[43m    \u001b[49m\u001b[43mgrad_tensors_\u001b[49m\u001b[43m,\u001b[49m\n\u001b[32m    356\u001b[39m \u001b[43m    \u001b[49m\u001b[43mretain_graph\u001b[49m\u001b[43m,\u001b[49m\n\u001b[32m    357\u001b[39m \u001b[43m    \u001b[49m\u001b[43mcreate_graph\u001b[49m\u001b[43m,\u001b[49m\n\u001b[32m    358\u001b[39m \u001b[43m    \u001b[49m\u001b[43minputs\u001b[49m\u001b[43m,\u001b[49m\n\u001b[32m    359\u001b[39m \u001b[43m    \u001b[49m\u001b[43mallow_unreachable\u001b[49m\u001b[43m=\u001b[49m\u001b[38;5;28;43;01mTrue\u001b[39;49;00m\u001b[43m,\u001b[49m\n\u001b[32m    360\u001b[39m \u001b[43m    \u001b[49m\u001b[43maccumulate_grad\u001b[49m\u001b[43m=\u001b[49m\u001b[38;5;28;43;01mTrue\u001b[39;49;00m\u001b[43m,\u001b[49m\n\u001b[32m    361\u001b[39m \u001b[43m\u001b[49m\u001b[43m)\u001b[49m\n",
      "\u001b[36mFile \u001b[39m\u001b[32m~/miniforge3/envs/qch/lib/python3.13/site-packages/torch/autograd/graph.py:824\u001b[39m, in \u001b[36m_engine_run_backward\u001b[39m\u001b[34m(t_outputs, *args, **kwargs)\u001b[39m\n\u001b[32m    822\u001b[39m     unregister_hooks = _register_logging_hooks_on_whole_graph(t_outputs)\n\u001b[32m    823\u001b[39m \u001b[38;5;28;01mtry\u001b[39;00m:\n\u001b[32m--> \u001b[39m\u001b[32m824\u001b[39m     \u001b[38;5;28;01mreturn\u001b[39;00m \u001b[43mVariable\u001b[49m\u001b[43m.\u001b[49m\u001b[43m_execution_engine\u001b[49m\u001b[43m.\u001b[49m\u001b[43mrun_backward\u001b[49m\u001b[43m(\u001b[49m\u001b[43m  \u001b[49m\u001b[38;5;66;43;03m# Calls into the C++ engine to run the backward pass\u001b[39;49;00m\n\u001b[32m    825\u001b[39m \u001b[43m        \u001b[49m\u001b[43mt_outputs\u001b[49m\u001b[43m,\u001b[49m\u001b[43m \u001b[49m\u001b[43m*\u001b[49m\u001b[43margs\u001b[49m\u001b[43m,\u001b[49m\u001b[43m \u001b[49m\u001b[43m*\u001b[49m\u001b[43m*\u001b[49m\u001b[43mkwargs\u001b[49m\n\u001b[32m    826\u001b[39m \u001b[43m    \u001b[49m\u001b[43m)\u001b[49m  \u001b[38;5;66;03m# Calls into the C++ engine to run the backward pass\u001b[39;00m\n\u001b[32m    827\u001b[39m \u001b[38;5;28;01mfinally\u001b[39;00m:\n\u001b[32m    828\u001b[39m     \u001b[38;5;28;01mif\u001b[39;00m attach_logging_hooks:\n",
      "\u001b[31mRuntimeError\u001b[39m: Trying to backward through the graph a second time (or directly access saved tensors after they have already been freed). Saved intermediate values of the graph are freed when you call .backward() or autograd.grad(). Specify retain_graph=True if you need to backward through the graph a second time or if you need to access saved tensors after calling backward."
     ]
    }
   ],
   "source": [
    "from qch2025.pkg.models.RNN import network as network\n",
    "from qch2025.pkg.models.RNN import func as func\n",
    "\n",
    "from qch2025.pkg.dataset import DS\n",
    "\n",
    "import qch2025.pkg.plotting as plt\n",
    "\n",
    "import numpy as np\n",
    "import pandas as pd\n",
    "import torch\n",
    "import datetime\n",
    "\n",
    "n_epochs = 50\n",
    "window_size = 256\n",
    "batch_size = 32\n",
    "window_steps = 16\n",
    "attn_heads = 4\n",
    "\n",
    "learning_rate = 0.0001\n",
    "dropout = 0.2\n",
    "\n",
    "dtype = torch.float32\n",
    "\n",
    "# Training\n",
    "train_dataset = DS(dataset_path=\"/home/ubuntu/repos/quantchallenge-2025/qch2025/dataset/train.csv\",\n",
    "                        window_size=window_size,\n",
    "                        window_steps=window_steps,\n",
    "                        dtype=dtype)\n",
    "\n",
    "rnn = network.RNN(14, 512, 2, dropout, attn_heads, 2, device=torch.device(\"cuda\"), dtype=dtype)\n",
    "losses = func.train(rnn, dataset=train_dataset, epochs=n_epochs, learning_rate=learning_rate)\n",
    "\n",
    "plt.plot_line(np.arange(1, n_epochs+1), losses)\n",
    "\n",
    "\n",
    "#checkpoint = torch.load(\"/home/ubuntu/repos/quantchallenge-2025/weights/weights.pth\", weights_only=True)\n",
    "#rnn.load_state_dict(checkpoint['model_state_dict'])\n",
    "\n",
    "eval = DS(dataset_path=\"/home/ubuntu/repos/quantchallenge-2025/qch2025/dataset/test.csv\",\n",
    "                    window_size=window_size,\n",
    "                    window_steps=1,\n",
    "                    eval=True,\n",
    "                    device=torch.device(\"cuda\"),\n",
    "                    dtype=dtype)\n",
    "print(eval.ids.shape, eval.train.shape)\n",
    "y1, y2, ids = func.eval(rnn, eval)\n",
    "\n",
    "df = pd.DataFrame({\"id\": ids, \"Y1\": y1, \"Y2\": y2})\n",
    "df[\"id\"] = df[\"id\"] + 1\n",
    "df.to_csv(f\"/home/ubuntu/repos/quantchallenge-2025/qch2025/outputs/{datetime.datetime.now()}_predicted.csv\")\n",
    "\n",
    "\n",
    "\n",
    "\n"
   ]
  }
 ],
 "metadata": {
  "kernelspec": {
   "display_name": "qch",
   "language": "python",
   "name": "python3"
  },
  "language_info": {
   "codemirror_mode": {
    "name": "ipython",
    "version": 3
   },
   "file_extension": ".py",
   "mimetype": "text/x-python",
   "name": "python",
   "nbconvert_exporter": "python",
   "pygments_lexer": "ipython3",
   "version": "3.13.7"
  }
 },
 "nbformat": 4,
 "nbformat_minor": 5
}
