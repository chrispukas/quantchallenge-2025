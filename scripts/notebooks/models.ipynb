{
 "cells": [
  {
   "cell_type": "code",
   "execution_count": null,
   "id": "017337e8",
   "metadata": {},
   "outputs": [
    {
     "name": "stdout",
     "output_type": "stream",
     "text": [
      "torch.Size([80000, 14])\n",
      "torch.Size([80000, 2])\n",
      "Initialized dataset torch.Size([4484, 256, 14]) torch.Size([4484, 256, 2])\n",
      "[2025-09-21 11:53:37.823917] Current batch item: 0, took 236 ms, loss: 0.6871525049209595, mean loss: 0.6871525049209595\n",
      "Saving checkpoint: best rsq: 0.2878805476102831 vs current: 0\n",
      "1: loss mean = 0.2878805476102831, RSQ: 0.2878805476102831\n",
      "[2025-09-21 11:53:44.880568] Current batch item: 0, took 40 ms, loss: 0.41733941435813904, mean loss: 0.41733941435813904\n",
      "Saving checkpoint: best rsq: 0.6417324522726744 vs current: 0.2878805476102831\n"
     ]
    },
    {
     "ename": "KeyboardInterrupt",
     "evalue": "",
     "output_type": "error",
     "traceback": [
      "\u001b[31m---------------------------------------------------------------------------\u001b[39m",
      "\u001b[31mKeyboardInterrupt\u001b[39m                         Traceback (most recent call last)",
      "\u001b[36mCell\u001b[39m\u001b[36m \u001b[39m\u001b[32mIn[1]\u001b[39m\u001b[32m, line 31\u001b[39m\n\u001b[32m     25\u001b[39m train_dataset = DS(dataset_path=\u001b[33m\"\u001b[39m\u001b[33m/home/ubuntu/repos/quantchallenge-2025/qch2025/dataset/train.csv\u001b[39m\u001b[33m\"\u001b[39m,\n\u001b[32m     26\u001b[39m                         window_size=window_size,\n\u001b[32m     27\u001b[39m                         window_steps=window_steps,\n\u001b[32m     28\u001b[39m                         dtype=dtype)\n\u001b[32m     30\u001b[39m rnn = network.RNN(\u001b[32m14\u001b[39m, \u001b[32m512\u001b[39m, \u001b[32m2\u001b[39m, dropout, attn_heads, \u001b[32m2\u001b[39m, device=torch.device(\u001b[33m\"\u001b[39m\u001b[33mcuda\u001b[39m\u001b[33m\"\u001b[39m), dtype=dtype)\n\u001b[32m---> \u001b[39m\u001b[32m31\u001b[39m losses = \u001b[43mfunc\u001b[49m\u001b[43m.\u001b[49m\u001b[43mtrain\u001b[49m\u001b[43m(\u001b[49m\u001b[43mrnn\u001b[49m\u001b[43m,\u001b[49m\u001b[43m \u001b[49m\u001b[43mdataset\u001b[49m\u001b[43m=\u001b[49m\u001b[43mtrain_dataset\u001b[49m\u001b[43m,\u001b[49m\u001b[43m \u001b[49m\u001b[43mepochs\u001b[49m\u001b[43m=\u001b[49m\u001b[43mn_epochs\u001b[49m\u001b[43m,\u001b[49m\u001b[43m \u001b[49m\u001b[43mlearning_rate\u001b[49m\u001b[43m=\u001b[49m\u001b[43mlearning_rate\u001b[49m\u001b[43m)\u001b[49m\n\u001b[32m     33\u001b[39m plt.plot_line(np.arange(\u001b[32m1\u001b[39m, n_epochs+\u001b[32m1\u001b[39m), losses)\n\u001b[32m     36\u001b[39m \u001b[38;5;66;03m#checkpoint = torch.load(\"/home/ubuntu/repos/quantchallenge-2025/weights/weights.pth\", weights_only=True)\u001b[39;00m\n\u001b[32m     37\u001b[39m \u001b[38;5;66;03m#rnn.load_state_dict(checkpoint['model_state_dict'])\u001b[39;00m\n",
      "\u001b[36mFile \u001b[39m\u001b[32m~/repos/quantchallenge-2025/qch2025/pkg/models/RNN/func.py:50\u001b[39m, in \u001b[36mtrain\u001b[39m\u001b[34m(model, dataset, epochs, batch_size, learning_rate)\u001b[39m\n\u001b[32m     48\u001b[39m \u001b[38;5;28;01mif\u001b[39;00m rsq > m:\n\u001b[32m     49\u001b[39m     \u001b[38;5;28mprint\u001b[39m(\u001b[33mf\u001b[39m\u001b[33m\"\u001b[39m\u001b[33mSaving checkpoint: best rsq: \u001b[39m\u001b[38;5;132;01m{\u001b[39;00mrsq\u001b[38;5;132;01m}\u001b[39;00m\u001b[33m vs current: \u001b[39m\u001b[38;5;132;01m{\u001b[39;00mm\u001b[38;5;132;01m}\u001b[39;00m\u001b[33m\"\u001b[39m)\n\u001b[32m---> \u001b[39m\u001b[32m50\u001b[39m     \u001b[43mtorch\u001b[49m\u001b[43m.\u001b[49m\u001b[43msave\u001b[49m\u001b[43m(\u001b[49m\u001b[43m{\u001b[49m\n\u001b[32m     51\u001b[39m \u001b[43m        \u001b[49m\u001b[33;43m'\u001b[39;49m\u001b[33;43mmodel_state_dict\u001b[39;49m\u001b[33;43m'\u001b[39;49m\u001b[43m:\u001b[49m\u001b[43m \u001b[49m\u001b[43mmodel\u001b[49m\u001b[43m.\u001b[49m\u001b[43mstate_dict\u001b[49m\u001b[43m(\u001b[49m\u001b[43m)\u001b[49m\u001b[43m,\u001b[49m\n\u001b[32m     52\u001b[39m \u001b[43m        \u001b[49m\u001b[33;43m'\u001b[39;49m\u001b[33;43moptimizer_state_dict\u001b[39;49m\u001b[33;43m'\u001b[39;49m\u001b[43m:\u001b[49m\u001b[43m \u001b[49m\u001b[43moptimizer\u001b[49m\u001b[43m.\u001b[49m\u001b[43mstate_dict\u001b[49m\u001b[43m(\u001b[49m\u001b[43m)\u001b[49m\u001b[43m,\u001b[49m\n\u001b[32m     53\u001b[39m \u001b[43m    \u001b[49m\u001b[43m}\u001b[49m\u001b[43m,\u001b[49m\u001b[43m \u001b[49m\u001b[33;43m\"\u001b[39;49m\u001b[33;43m/home/ubuntu/repos/quantchallenge-2025/weights/weights.pth\u001b[39;49m\u001b[33;43m\"\u001b[39;49m\u001b[43m)\u001b[49m\n\u001b[32m     54\u001b[39m     \u001b[38;5;66;03m# Only save weights with best rsq\u001b[39;00m\n\u001b[32m     55\u001b[39m rolling_mean.append(rsq)\n",
      "\u001b[36mFile \u001b[39m\u001b[32m~/miniforge3/envs/qch/lib/python3.13/site-packages/torch/serialization.py:964\u001b[39m, in \u001b[36msave\u001b[39m\u001b[34m(obj, f, pickle_module, pickle_protocol, _use_new_zipfile_serialization, _disable_byteorder_record)\u001b[39m\n\u001b[32m    961\u001b[39m     f = os.fspath(f)\n\u001b[32m    963\u001b[39m \u001b[38;5;28;01mif\u001b[39;00m _use_new_zipfile_serialization:\n\u001b[32m--> \u001b[39m\u001b[32m964\u001b[39m \u001b[43m    \u001b[49m\u001b[38;5;28;43;01mwith\u001b[39;49;00m\u001b[43m \u001b[49m\u001b[43m_open_zipfile_writer\u001b[49m\u001b[43m(\u001b[49m\u001b[43mf\u001b[49m\u001b[43m)\u001b[49m\u001b[43m \u001b[49m\u001b[38;5;28;43;01mas\u001b[39;49;00m\u001b[43m \u001b[49m\u001b[43mopened_zipfile\u001b[49m\u001b[43m:\u001b[49m\n\u001b[32m    965\u001b[39m \u001b[43m        \u001b[49m\u001b[43m_save\u001b[49m\u001b[43m(\u001b[49m\n\u001b[32m    966\u001b[39m \u001b[43m            \u001b[49m\u001b[43mobj\u001b[49m\u001b[43m,\u001b[49m\n\u001b[32m    967\u001b[39m \u001b[43m            \u001b[49m\u001b[43mopened_zipfile\u001b[49m\u001b[43m,\u001b[49m\n\u001b[32m   (...)\u001b[39m\u001b[32m    970\u001b[39m \u001b[43m            \u001b[49m\u001b[43m_disable_byteorder_record\u001b[49m\u001b[43m,\u001b[49m\n\u001b[32m    971\u001b[39m \u001b[43m        \u001b[49m\u001b[43m)\u001b[49m\n\u001b[32m    972\u001b[39m \u001b[43m        \u001b[49m\u001b[38;5;28;43;01mreturn\u001b[39;49;00m\n",
      "\u001b[36mFile \u001b[39m\u001b[32m~/miniforge3/envs/qch/lib/python3.13/site-packages/torch/serialization.py:798\u001b[39m, in \u001b[36m_open_zipfile_writer_file.__exit__\u001b[39m\u001b[34m(self, *args)\u001b[39m\n\u001b[32m    797\u001b[39m \u001b[38;5;28;01mdef\u001b[39;00m\u001b[38;5;250m \u001b[39m\u001b[34m__exit__\u001b[39m(\u001b[38;5;28mself\u001b[39m, *args) -> \u001b[38;5;28;01mNone\u001b[39;00m:\n\u001b[32m--> \u001b[39m\u001b[32m798\u001b[39m     \u001b[38;5;28;43mself\u001b[39;49m\u001b[43m.\u001b[49m\u001b[43mfile_like\u001b[49m\u001b[43m.\u001b[49m\u001b[43mwrite_end_of_file\u001b[49m\u001b[43m(\u001b[49m\u001b[43m)\u001b[49m\n\u001b[32m    799\u001b[39m     \u001b[38;5;28;01mif\u001b[39;00m \u001b[38;5;28mself\u001b[39m.file_stream \u001b[38;5;129;01mis\u001b[39;00m \u001b[38;5;129;01mnot\u001b[39;00m \u001b[38;5;28;01mNone\u001b[39;00m:\n\u001b[32m    800\u001b[39m         \u001b[38;5;28mself\u001b[39m.file_stream.close()\n",
      "\u001b[31mKeyboardInterrupt\u001b[39m: "
     ]
    }
   ],
   "source": [
    "from qch2025.pkg.models.RNN import network as network\n",
    "from qch2025.pkg.models.RNN import func as func\n",
    "\n",
    "from qch2025.pkg.dataset import DS\n",
    "\n",
    "import qch2025.pkg.plotting as plt\n",
    "\n",
    "import numpy as np\n",
    "import pandas as pd\n",
    "import torch\n",
    "import datetime\n",
    "\n",
    "n_epochs = 50\n",
    "window_size = 256\n",
    "batch_size = 32\n",
    "window_steps = 16\n",
    "attn_heads = 4\n",
    "\n",
    "learning_rate = 0.0001\n",
    "dropout = 0.2\n",
    "\n",
    "r2_priority = 0.1\n",
    "\n",
    "dtype = torch.float32\n",
    "\n",
    "# Training\n",
    "train_dataset = DS(dataset_path=\"/home/ubuntu/repos/quantchallenge-2025/qch2025/dataset/train.csv\",\n",
    "                        window_size=window_size,\n",
    "                        window_steps=window_steps,\n",
    "                        dtype=dtype)\n",
    "\n",
    "rnn = network.RNN(14, 512, 2, dropout, attn_heads, 2, device=torch.device(\"cuda\"), dtype=dtype)\n",
    "losses = func.train(rnn, dataset=train_dataset, epochs=n_epochs, learning_rate=learning_rate, decay=r2_priority)\n",
    "\n",
    "plt.plot_line(np.arange(1, n_epochs+1), losses)\n",
    "\n",
    "\n",
    "#checkpoint = torch.load(\"/home/ubuntu/repos/quantchallenge-2025/weights/weights.pth\", weights_only=True)\n",
    "#rnn.load_state_dict(checkpoint['model_state_dict'])\n",
    "\n",
    "eval = DS(dataset_path=\"/home/ubuntu/repos/quantchallenge-2025/qch2025/dataset/test.csv\",\n",
    "                    window_size=window_size,\n",
    "                    window_steps=1,\n",
    "                    eval=True,\n",
    "                    device=torch.device(\"cuda\"),\n",
    "                    dtype=dtype)\n",
    "print(eval.ids.shape, eval.train.shape)\n",
    "y1, y2, ids = func.eval(rnn, eval)\n",
    "\n",
    "df = pd.DataFrame({\"id\": ids, \"Y1\": y1, \"Y2\": y2})\n",
    "df[\"id\"] = df[\"id\"] + 1\n",
    "df.to_csv(f\"/home/ubuntu/repos/quantchallenge-2025/qch2025/outputs/{datetime.datetime.now()}_predicted.csv\")\n",
    "\n",
    "\n",
    "\n",
    "\n"
   ]
  }
 ],
 "metadata": {
  "kernelspec": {
   "display_name": "qch",
   "language": "python",
   "name": "python3"
  },
  "language_info": {
   "codemirror_mode": {
    "name": "ipython",
    "version": 3
   },
   "file_extension": ".py",
   "mimetype": "text/x-python",
   "name": "python",
   "nbconvert_exporter": "python",
   "pygments_lexer": "ipython3",
   "version": "3.13.7"
  }
 },
 "nbformat": 4,
 "nbformat_minor": 5
}
